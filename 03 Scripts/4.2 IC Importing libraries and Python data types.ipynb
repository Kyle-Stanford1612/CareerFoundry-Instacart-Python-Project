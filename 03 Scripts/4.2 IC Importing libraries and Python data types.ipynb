{
 "cells": [
  {
   "cell_type": "markdown",
   "id": "8d1c11e4",
   "metadata": {},
   "source": [
    "# Importing Libraries"
   ]
  },
  {
   "cell_type": "code",
   "execution_count": 1,
   "id": "8fb7ea2e",
   "metadata": {},
   "outputs": [],
   "source": [
    "# Import libraries\n",
    "import pandas as pd\n",
    "import numpy as np\n",
    "import os"
   ]
  },
  {
   "cell_type": "markdown",
   "id": "5aea66f5",
   "metadata": {},
   "source": [
    "# Data Types"
   ]
  },
  {
   "cell_type": "code",
   "execution_count": 2,
   "id": "fb66ca2a",
   "metadata": {},
   "outputs": [],
   "source": [
    "# Part 7\n",
    "x = 50\n",
    "y = 25\n",
    "z = 150"
   ]
  },
  {
   "cell_type": "code",
   "execution_count": 3,
   "id": "01bc17dd",
   "metadata": {},
   "outputs": [
    {
     "data": {
      "text/plain": [
       "100"
      ]
     },
     "execution_count": 3,
     "metadata": {},
     "output_type": "execute_result"
    }
   ],
   "source": [
    "x + x"
   ]
  },
  {
   "cell_type": "code",
   "execution_count": 4,
   "id": "8beaec21",
   "metadata": {},
   "outputs": [
    {
     "data": {
      "text/plain": [
       "100"
      ]
     },
     "execution_count": 4,
     "metadata": {},
     "output_type": "execute_result"
    }
   ],
   "source": [
    "z - x"
   ]
  },
  {
   "cell_type": "code",
   "execution_count": 5,
   "id": "3a9a2fa1",
   "metadata": {},
   "outputs": [
    {
     "data": {
      "text/plain": [
       "100"
      ]
     },
     "execution_count": 5,
     "metadata": {},
     "output_type": "execute_result"
    }
   ],
   "source": [
    "x + y + y"
   ]
  },
  {
   "cell_type": "code",
   "execution_count": 6,
   "id": "22ab4e4f",
   "metadata": {},
   "outputs": [],
   "source": [
    "# Part 8\n",
    "a = 24.5\n",
    "b = 3.75"
   ]
  },
  {
   "cell_type": "code",
   "execution_count": 7,
   "id": "43ed77fe",
   "metadata": {},
   "outputs": [
    {
     "data": {
      "text/plain": [
       "6.533333333333333"
      ]
     },
     "execution_count": 7,
     "metadata": {},
     "output_type": "execute_result"
    }
   ],
   "source": [
    "a / b"
   ]
  },
  {
   "cell_type": "code",
   "execution_count": 8,
   "id": "1084fb7a",
   "metadata": {},
   "outputs": [],
   "source": [
    "# Part 9\n",
    "c = \"con\"\n",
    "d = \"cat\"\n",
    "e = \"en\"\n",
    "f = \"ate\""
   ]
  },
  {
   "cell_type": "code",
   "execution_count": 9,
   "id": "4604da78",
   "metadata": {},
   "outputs": [
    {
     "data": {
      "text/plain": [
       "'concatenate'"
      ]
     },
     "execution_count": 9,
     "metadata": {},
     "output_type": "execute_result"
    }
   ],
   "source": [
    "c + d + e + f"
   ]
  },
  {
   "cell_type": "code",
   "execution_count": 10,
   "id": "dbc1204f",
   "metadata": {},
   "outputs": [],
   "source": [
    "# Part 10\n",
    "g = \"You can't \"\n",
    "h = \"handle the truth!\"\n",
    "i = \"just say perchance\""
   ]
  },
  {
   "cell_type": "code",
   "execution_count": 11,
   "id": "bbb655c6",
   "metadata": {},
   "outputs": [
    {
     "data": {
      "text/plain": [
       "\"You can't handle the truth!\""
      ]
     },
     "execution_count": 11,
     "metadata": {},
     "output_type": "execute_result"
    }
   ],
   "source": [
    "g + h"
   ]
  },
  {
   "cell_type": "code",
   "execution_count": 12,
   "id": "45818ef9",
   "metadata": {},
   "outputs": [
    {
     "data": {
      "text/plain": [
       "\"You can't just say perchance\""
      ]
     },
     "execution_count": 12,
     "metadata": {},
     "output_type": "execute_result"
    }
   ],
   "source": [
    "g + i"
   ]
  },
  {
   "cell_type": "code",
   "execution_count": 13,
   "id": "4ad6170e",
   "metadata": {},
   "outputs": [
    {
     "data": {
      "text/plain": [
       "'Repetition Repetition Repetition Repetition Repetition Repetition Repetition Repetition Repetition Repetition Repetition Repetition Repetition Repetition Repetition Repetition Repetition Repetition Repetition Repetition Repetition Repetition Repetition Repetition Repetition Repetition Repetition Repetition Repetition Repetition Repetition Repetition Repetition Repetition Repetition Repetition Repetition Repetition Repetition Repetition Repetition Repetition Repetition Repetition Repetition Repetition Repetition Repetition Repetition Repetition Repetition Repetition Repetition Repetition Repetition Repetition Repetition Repetition Repetition Repetition Repetition Repetition Repetition Repetition Repetition Repetition Repetition Repetition Repetition Repetition Repetition Repetition Repetition Repetition Repetition Repetition Repetition Repetition Repetition Repetition Repetition Repetition Repetition Repetition Repetition Repetition Repetition Repetition Repetition Repetition Repetition Repetition Repetition Repetition Repetition Repetition Repetition Repetition Repetition Repetition '"
      ]
     },
     "execution_count": 13,
     "metadata": {},
     "output_type": "execute_result"
    }
   ],
   "source": [
    "# Bonus\n",
    "\"Repetition \"*100"
   ]
  }
 ],
 "metadata": {
  "kernelspec": {
   "display_name": "Python 3 (ipykernel)",
   "language": "python",
   "name": "python3"
  },
  "language_info": {
   "codemirror_mode": {
    "name": "ipython",
    "version": 3
   },
   "file_extension": ".py",
   "mimetype": "text/x-python",
   "name": "python",
   "nbconvert_exporter": "python",
   "pygments_lexer": "ipython3",
   "version": "3.11.7"
  },
  "toc": {
   "base_numbering": 1,
   "nav_menu": {},
   "number_sections": true,
   "sideBar": true,
   "skip_h1_title": false,
   "title_cell": "Table of Contents",
   "title_sidebar": "Contents",
   "toc_cell": false,
   "toc_position": {
    "height": "calc(100% - 180px)",
    "left": "10px",
    "top": "150px",
    "width": "357px"
   },
   "toc_section_display": true,
   "toc_window_display": true
  }
 },
 "nbformat": 4,
 "nbformat_minor": 5
}
